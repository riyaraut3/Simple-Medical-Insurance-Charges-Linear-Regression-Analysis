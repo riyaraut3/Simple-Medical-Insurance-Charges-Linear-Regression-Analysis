{
  "nbformat": 4,
  "nbformat_minor": 0,
  "metadata": {
    "colab": {
      "provenance": []
    },
    "kernelspec": {
      "name": "python3",
      "display_name": "Python 3"
    }
  },
  "cells": [
    {
      "cell_type": "code",
      "metadata": {
        "id": "zHFHNPoW7H8Y"
      },
      "source": [
        "import numpy as np\n",
        "import pandas as pd\n",
        "from sklearn.linear_model import LinearRegression\n",
        "import matplotlib.pyplot as plt\n",
        "import seaborn as sns\n",
        "import pandas.util.testing as tm"
      ],
      "execution_count": null,
      "outputs": []
    },
    {
      "cell_type": "code",
      "metadata": {
        "id": "5S_oLEWrtvxO"
      },
      "source": [],
      "execution_count": null,
      "outputs": []
    },
    {
      "cell_type": "code",
      "metadata": {
        "id": "IfWAc0mY9CTG",
        "colab": {
          "base_uri": "https://localhost:8080/",
          "height": 255
        },
        "outputId": "3ad8fa9f-e7f3-4224-c15a-bb796c05b4c6"
      },
      "source": [
        "#reading data\n",
        "df = pd.read_csv('/content/medical insurance charges.csv')\n",
        "df.head"
      ],
      "execution_count": null,
      "outputs": [
        {
          "output_type": "execute_result",
          "data": {
            "text/plain": [
              "<bound method NDFrame.head of      age  gender     bmi  children  smoker  region      charges\n",
              "0     31       1  25.800         2       0       3   4934.70500\n",
              "1     37       0  24.320         2       0       1   6198.75180\n",
              "2     46       0  40.375         2       0       1   8733.22925\n",
              "3     22       0  32.110         0       0       1   2055.32490\n",
              "4     51       0  32.300         1       0       2   9964.06000\n",
              "..   ...     ...     ...       ...     ...     ...          ...\n",
              "134   50       0  30.970         3       0       1  10600.54830\n",
              "135   18       1  31.920         0       0       2   2205.98080\n",
              "136   18       1  36.850         0       0       3   1629.83350\n",
              "137   21       1  25.800         0       0       3   2007.94500\n",
              "138   61       1  29.070         0       1       1  29141.36030\n",
              "\n",
              "[139 rows x 7 columns]>"
            ]
          },
          "metadata": {
            "tags": []
          },
          "execution_count": 103
        }
      ]
    },
    {
      "cell_type": "code",
      "metadata": {
        "id": "EKElM_s7WqGQ"
      },
      "source": [],
      "execution_count": null,
      "outputs": []
    },
    {
      "cell_type": "code",
      "metadata": {
        "id": "0_eByv6v_ns1",
        "colab": {
          "base_uri": "https://localhost:8080/",
          "height": 1000
        },
        "outputId": "6b87dda4-b5b3-4795-c8ee-1173ab82b7f3"
      },
      "source": [
        "X= df[['age','gender','bmi','children','smoker','region']].values\n",
        "y= df['charges'].values\n",
        "print(X)\n",
        "print(y)"
      ],
      "execution_count": null,
      "outputs": [
        {
          "output_type": "stream",
          "text": [
            "[[31.     1.    25.8    2.     0.     3.   ]\n",
            " [37.     0.    24.32   2.     0.     1.   ]\n",
            " [46.     0.    40.375  2.     0.     1.   ]\n",
            " [22.     0.    32.11   0.     0.     1.   ]\n",
            " [51.     0.    32.3    1.     0.     2.   ]\n",
            " [18.     1.    27.28   3.     1.     3.   ]\n",
            " [35.     0.    17.86   1.     0.     1.   ]\n",
            " [59.     1.    34.8    2.     0.     3.   ]\n",
            " [36.     0.    33.4    2.     1.     3.   ]\n",
            " [37.     1.    25.555  1.     1.     2.   ]\n",
            " [59.     0.    37.1    1.     0.     3.   ]\n",
            " [36.     0.    30.875  1.     0.     1.   ]\n",
            " [39.     0.    34.1    2.     0.     3.   ]\n",
            " [18.     0.    21.47   0.     0.     2.   ]\n",
            " [52.     1.    33.3    2.     0.     3.   ]\n",
            " [27.     1.    31.255  1.     0.     1.   ]\n",
            " [18.     0.    39.14   0.     0.     2.   ]\n",
            " [40.     0.    25.08   0.     0.     3.   ]\n",
            " [29.     0.    37.29   2.     0.     3.   ]\n",
            " [46.     1.    34.6    1.     1.     3.   ]\n",
            " [38.     1.    30.21   3.     0.     1.   ]\n",
            " [30.     1.    21.945  1.     0.     2.   ]\n",
            " [40.     0.    24.97   2.     0.     3.   ]\n",
            " [50.     0.    25.3    0.     0.     3.   ]\n",
            " [20.     1.    24.42   0.     1.     3.   ]\n",
            " [41.     0.    23.94   1.     0.     2.   ]\n",
            " [33.     1.    39.82   1.     0.     3.   ]\n",
            " [38.     0.    16.815  2.     0.     2.   ]\n",
            " [42.     0.    37.18   2.     0.     3.   ]\n",
            " [56.     0.    34.43   0.     0.     3.   ]\n",
            " [58.     0.    30.305  0.     0.     2.   ]\n",
            " [52.     0.    34.485  3.     1.     1.   ]\n",
            " [20.     1.    21.8    0.     1.     3.   ]\n",
            " [54.     1.    24.605  3.     0.     1.   ]\n",
            " [58.     0.    23.3    0.     0.     3.   ]\n",
            " [45.     1.    27.83   2.     0.     3.   ]\n",
            " [26.     0.    31.065  0.     0.     1.   ]\n",
            " [63.     1.    21.66   0.     0.     2.   ]\n",
            " [58.     1.    28.215  0.     0.     1.   ]\n",
            " [37.     0.    22.705  3.     0.     2.   ]\n",
            " [25.     1.    42.13   1.     0.     3.   ]\n",
            " [52.     0.    41.8    2.     1.     3.   ]\n",
            " [64.     0.    36.96   2.     1.     3.   ]\n",
            " [22.     1.    21.28   3.     0.     1.   ]\n",
            " [28.     1.    33.11   0.     0.     3.   ]\n",
            " [18.     0.    33.33   0.     0.     3.   ]\n",
            " [28.     0.    24.3    5.     0.     3.   ]\n",
            " [45.     1.    25.7    3.     0.     3.   ]\n",
            " [33.     0.    29.4    4.     0.     3.   ]\n",
            " [18.     1.    39.82   0.     0.     3.   ]\n",
            " [32.     0.    33.63   1.     1.     2.   ]\n",
            " [24.     0.    29.83   0.     1.     2.   ]\n",
            " [19.     0.    19.8    0.     0.     3.   ]\n",
            " [20.     0.    27.3    0.     1.     3.   ]\n",
            " [40.     1.    29.3    4.     0.     3.   ]\n",
            " [34.     1.    27.72   0.     0.     3.   ]\n",
            " [42.     1.    37.9    0.     0.     3.   ]\n",
            " [51.     1.    36.385  3.     0.     1.   ]\n",
            " [54.     1.    27.645  1.     0.     1.   ]\n",
            " [55.     0.    37.715  3.     0.     1.   ]\n",
            " [52.     1.    23.18   0.     0.     2.   ]\n",
            " [32.     1.    20.52   0.     0.     2.   ]\n",
            " [28.     0.    37.1    1.     0.     3.   ]\n",
            " [41.     1.    28.05   1.     0.     3.   ]\n",
            " [43.     1.    29.9    1.     0.     3.   ]\n",
            " [49.     1.    33.345  2.     0.     2.   ]\n",
            " [64.     0.    23.76   0.     1.     3.   ]\n",
            " [55.     1.    30.5    0.     0.     3.   ]\n",
            " [24.     0.    31.065  0.     1.     2.   ]\n",
            " [20.     1.    33.3    0.     0.     3.   ]\n",
            " [45.     0.    27.5    3.     0.     3.   ]\n",
            " [26.     0.    33.915  1.     0.     1.   ]\n",
            " [25.     1.    34.485  0.     0.     1.   ]\n",
            " [43.     0.    25.52   5.     0.     3.   ]\n",
            " [35.     0.    27.61   1.     0.     3.   ]\n",
            " [26.     0.    27.06   0.     1.     3.   ]\n",
            " [57.     0.    23.7    0.     0.     3.   ]\n",
            " [22.     1.    30.4    0.     0.     2.   ]\n",
            " [32.     1.    29.735  0.     0.     1.   ]\n",
            " [39.     0.    29.925  1.     1.     2.   ]\n",
            " [25.     1.    26.79   2.     0.     1.   ]\n",
            " [48.     1.    33.33   0.     0.     3.   ]\n",
            " [47.     1.    27.645  2.     1.     1.   ]\n",
            " [18.     1.    21.66   0.     1.     2.   ]\n",
            " [18.     0.    30.03   1.     0.     3.   ]\n",
            " [61.     0.    36.3    1.     1.     3.   ]\n",
            " [47.     1.    24.32   0.     0.     2.   ]\n",
            " [28.     1.    17.29   0.     0.     2.   ]\n",
            " [36.     1.    25.9    1.     0.     3.   ]\n",
            " [20.     0.    39.4    2.     1.     3.   ]\n",
            " [44.     0.    34.32   1.     0.     3.   ]\n",
            " [38.     1.    19.95   2.     0.     2.   ]\n",
            " [19.     0.    34.9    0.     1.     3.   ]\n",
            " [21.     0.    23.21   0.     0.     3.   ]\n",
            " [46.     0.    25.745  3.     0.     1.   ]\n",
            " [58.     0.    25.175  0.     0.     2.   ]\n",
            " [20.     0.    22.     1.     0.     3.   ]\n",
            " [18.     0.    26.125  0.     0.     2.   ]\n",
            " [28.     1.    26.51   2.     0.     3.   ]\n",
            " [33.     0.    27.455  2.     0.     1.   ]\n",
            " [19.     1.    25.745  1.     0.     1.   ]\n",
            " [45.     0.    30.36   0.     1.     3.   ]\n",
            " [62.     0.    30.875  3.     1.     1.   ]\n",
            " [25.     1.    20.8    1.     0.     3.   ]\n",
            " [43.     0.    27.8    0.     1.     3.   ]\n",
            " [42.     0.    24.605  2.     1.     2.   ]\n",
            " [24.     1.    27.72   0.     0.     3.   ]\n",
            " [29.     1.    21.85   0.     1.     2.   ]\n",
            " [32.     0.    28.12   4.     1.     1.   ]\n",
            " [25.     1.    30.2    0.     1.     3.   ]\n",
            " [41.     0.    32.2    2.     0.     3.   ]\n",
            " [42.     0.    26.315  1.     0.     1.   ]\n",
            " [33.     1.    26.695  0.     0.     1.   ]\n",
            " [34.     0.    42.9    1.     0.     3.   ]\n",
            " [19.     1.    34.7    2.     1.     3.   ]\n",
            " [30.     1.    23.655  3.     1.     1.   ]\n",
            " [18.     0.    28.31   1.     0.     2.   ]\n",
            " [19.     1.    20.6    0.     0.     3.   ]\n",
            " [18.     0.    53.13   0.     0.     3.   ]\n",
            " [35.     0.    39.71   4.     0.     2.   ]\n",
            " [39.     1.    26.315  2.     0.     1.   ]\n",
            " [31.     0.    31.065  3.     0.     1.   ]\n",
            " [62.     0.    26.695  0.     1.     2.   ]\n",
            " [62.     0.    38.83   0.     0.     3.   ]\n",
            " [42.     1.    40.37   2.     1.     3.   ]\n",
            " [31.     0.    25.935  1.     0.     1.   ]\n",
            " [61.     0.    33.535  0.     0.     2.   ]\n",
            " [42.     1.    32.87   0.     0.     2.   ]\n",
            " [51.     0.    30.03   1.     0.     3.   ]\n",
            " [23.     1.    24.225  2.     0.     2.   ]\n",
            " [52.     0.    38.6    2.     0.     3.   ]\n",
            " [57.     1.    25.74   2.     0.     3.   ]\n",
            " [23.     1.    33.4    0.     0.     3.   ]\n",
            " [52.     1.    44.7    3.     0.     3.   ]\n",
            " [50.     0.    30.97   3.     0.     1.   ]\n",
            " [18.     1.    31.92   0.     0.     2.   ]\n",
            " [18.     1.    36.85   0.     0.     3.   ]\n",
            " [21.     1.    25.8    0.     0.     3.   ]\n",
            " [61.     1.    29.07   0.     1.     1.   ]]\n",
            "[ 4934.705    6198.7518   8733.22925  2055.3249   9964.06    18223.4512\n",
            "  5116.5004  36910.60803 38415.474   20296.86345 12347.172    5373.36425\n",
            " 23563.01618  1702.4553  10806.839    3956.07145 12890.05765  5415.6612\n",
            "  4058.1161  41661.602    7537.1639   4718.20355  6593.5083   8442.667\n",
            " 26125.67477  6858.4796   4795.6568   6640.54485  7162.0122  10594.2257\n",
            " 11938.25595 60021.39897 20167.33603 12479.70895 11345.519    8515.7587\n",
            "  2699.56835 14449.8544  12224.35085  6985.50695  3238.4357  47269.854\n",
            " 49577.6624   4296.2712   3171.6149   1135.9407   5615.369    9101.798\n",
            "  6059.173    1633.9618  37607.5277  18648.4217   1241.565   16232.847\n",
            " 15828.82173  4415.1588   6474.013   11436.73815 11305.93455 30063.58055\n",
            " 10197.7722   4544.2348   3277.161    6770.1925   7337.748   10370.91255\n",
            " 26926.5144  10704.47    34254.05335  1880.487    8615.3      3292.52985\n",
            "  3021.80915 14478.33015  4747.0529  17043.3414  10959.33     2741.948\n",
            "  4357.04365 22462.04375  4189.1131   8283.6807  24535.69855 14283.4594\n",
            "  1720.3537  47403.88     8534.6718   3732.6251   5472.449   38344.566\n",
            "  7147.4728   7133.9025  34828.654    1515.3449   9301.89355 11931.12525\n",
            "  1964.78     1708.92575  4340.4409   5261.46945  2710.82855 62592.87309\n",
            " 46718.16325  3208.787   37829.7242  21259.37795  2464.6188  16115.3045\n",
            " 21472.4788  33900.653    6875.961    6940.90985  4571.41305  4536.259\n",
            " 36397.576   18765.87545 11272.33139  1731.677    1163.4627  19496.71917\n",
            "  7201.70085  5425.02335 28101.33305 12981.3457  43896.3763   4239.89265\n",
            " 13143.33665  7050.0213   9377.9047  22395.74424 10325.206   12629.1656\n",
            " 10795.93733 11411.685   10600.5483   2205.9808   1629.8335   2007.945\n",
            " 29141.3603 ]\n"
          ],
          "name": "stdout"
        }
      ]
    },
    {
      "cell_type": "code",
      "metadata": {
        "id": "4qA5r7HKCEEO",
        "colab": {
          "base_uri": "https://localhost:8080/",
          "height": 34
        },
        "outputId": "09f07ea0-538f-4580-b22d-4cccb1c2b330"
      },
      "source": [
        "#linearregression\n",
        "regre= LinearRegression()\n",
        "regre.fit(X,y)\n",
        "#once fitted the model is trained\n"
      ],
      "execution_count": null,
      "outputs": [
        {
          "output_type": "execute_result",
          "data": {
            "text/plain": [
              "LinearRegression(copy_X=True, fit_intercept=True, n_jobs=None, normalize=False)"
            ]
          },
          "metadata": {
            "tags": []
          },
          "execution_count": 105
        }
      ]
    },
    {
      "cell_type": "code",
      "metadata": {
        "id": "kPW3Q5niCubq",
        "colab": {
          "base_uri": "https://localhost:8080/",
          "height": 34
        },
        "outputId": "ec8b8b31-72a3-4814-c43c-6267f8e32aa9"
      },
      "source": [
        "#prediction\n",
        "prediction= regre.predict(np.asarray([31,1,25.8,2,0,3]).reshape(-1,6))\n",
        "\n",
        "print(prediction)"
      ],
      "execution_count": null,
      "outputs": [
        {
          "output_type": "stream",
          "text": [
            "[5805.16731228]\n"
          ],
          "name": "stdout"
        }
      ]
    },
    {
      "cell_type": "code",
      "metadata": {
        "id": "dlO4Ne7BWA1Z"
      },
      "source": [],
      "execution_count": null,
      "outputs": []
    },
    {
      "cell_type": "code",
      "metadata": {
        "id": "EXmCMNJfWBQ6",
        "colab": {
          "base_uri": "https://localhost:8080/",
          "height": 34
        },
        "outputId": "d9a90b3a-cf14-4be0-dad3-bfb277db3f0d"
      },
      "source": [
        "regre.predict(np.asarray([[31,1,25.8,2,0,3]]))"
      ],
      "execution_count": null,
      "outputs": [
        {
          "output_type": "execute_result",
          "data": {
            "text/plain": [
              "array([5805.16731228])"
            ]
          },
          "metadata": {
            "tags": []
          },
          "execution_count": 107
        }
      ]
    },
    {
      "cell_type": "code",
      "metadata": {
        "id": "mCSi_kRMD1xF",
        "colab": {
          "base_uri": "https://localhost:8080/",
          "height": 296
        },
        "outputId": "122ce073-2002-4f0a-eb71-482846ff5044"
      },
      "source": [
        "sns.regplot(x=\"bmi\", y=\"charges\", data=df)"
      ],
      "execution_count": null,
      "outputs": [
        {
          "output_type": "execute_result",
          "data": {
            "text/plain": [
              "<matplotlib.axes._subplots.AxesSubplot at 0x7f978b39b0b8>"
            ]
          },
          "metadata": {
            "tags": []
          },
          "execution_count": 108
        },
        {
          "output_type": "display_data",
          "data": {
            "image/png": "[encoded data removed]",
            "text/plain": [
              "<Figure size 432x288 with 1 Axes>"
            ]
          },
          "metadata": {
            "tags": [],
            "needs_background": "light"
          }
        }
      ]
    },
    {
      "cell_type": "code",
      "metadata": {
        "id": "P3YC8TPEq7CD",
        "colab": {
          "base_uri": "https://localhost:8080/",
          "height": 34
        },
        "outputId": "bec02a0a-d71e-445c-d207-36cdf361b65c"
      },
      "source": [
        "sns"
      ],
      "execution_count": null,
      "outputs": [
        {
          "output_type": "execute_result",
          "data": {
            "text/plain": [
              "<module 'seaborn' from '/usr/local/lib/python3.6/dist-packages/seaborn/__init__.py'>"
            ]
          },
          "metadata": {
            "tags": []
          },
          "execution_count": 109
        }
      ]
    },
    {
      "cell_type": "code",
      "metadata": {
        "id": "qE8RWISWZ8X8",
        "colab": {
          "base_uri": "https://localhost:8080/",
          "height": 51
        },
        "outputId": "9c651fa2-cbb7-47a6-bd3f-a75b780c7515"
      },
      "source": [
        "print(regre.coef_)"
      ],
      "execution_count": null,
      "outputs": [
        {
          "output_type": "stream",
          "text": [
            "[  284.02234286  -538.96539462   322.10302018  1187.73945458\n",
            " 23954.65324335   569.23374972]\n"
          ],
          "name": "stdout"
        }
      ]
    },
    {
      "cell_type": "code",
      "metadata": {
        "id": "7_YATw6yZ80z",
        "colab": {
          "base_uri": "https://localhost:8080/",
          "height": 34
        },
        "outputId": "d9b20bc6-30b6-4f00-b052-05bd09ff355b"
      },
      "source": [
        "print(regre.intercept_)"
      ],
      "execution_count": null,
      "outputs": [
        {
          "output_type": "stream",
          "text": [
            "-14853.998000814405\n"
          ],
          "name": "stdout"
        }
      ]
    },
    {
      "cell_type": "code",
      "metadata": {
        "id": "GzQ_pU4gaGTf",
        "colab": {
          "base_uri": "https://localhost:8080/",
          "height": 34
        },
        "outputId": "c5342bcc-166d-416e-aa18-fdb50e667206"
      },
      "source": [
        "-14853.998000814405+(31*284.22)+(1*-538.96)+(25.8*322.10)+(2*1187.73)+(0)+(3*569.23)"
      ],
      "execution_count": null,
      "outputs": [
        {
          "output_type": "execute_result",
          "data": {
            "text/plain": [
              "5811.1919991855975"
            ]
          },
          "metadata": {
            "tags": []
          },
          "execution_count": 112
        }
      ]
    },
    {
      "cell_type": "code",
      "metadata": {
        "id": "iB9AhUtmaqiu"
      },
      "source": [
        "#y=w0+w1x1+w2x2"
      ],
      "execution_count": null,
      "outputs": []
    },
    {
      "cell_type": "code",
      "metadata": {
        "id": "axDUv5WWbDIs"
      },
      "source": [
        "#pickle  dumb and replace 0 and 1 by male female and yes and no"
      ],
      "execution_count": null,
      "outputs": []
    },
    {
      "cell_type": "code",
      "metadata": {
        "id": "ejfy1ZrLJk_V"
      },
      "source": [
        "import pickle"
      ],
      "execution_count": null,
      "outputs": []
    },
    {
      "cell_type": "code",
      "metadata": {
        "id": "XuE1zYx2rWy7"
      },
      "source": [
        "with open('regre_pickle',\"wb\") as f:\n",
        "  pickle.dump(regre,f)"
      ],
      "execution_count": null,
      "outputs": []
    },
    {
      "cell_type": "code",
      "metadata": {
        "id": "FfxkycJ1vW32",
        "colab": {
          "base_uri": "https://localhost:8080/",
          "height": 34
        },
        "outputId": "cdc507a9-aac4-481b-c986-d320989b3982"
      },
      "source": [
        "with open(\"regre_pickle\",\"rb\") as f:\n",
        "  insuarance= pickle.load(f)\n",
        "insuarance.predict(np.asarray([[31,1,25.8,2,0,3]]))"
      ],
      "execution_count": null,
      "outputs": [
        {
          "output_type": "execute_result",
          "data": {
            "text/plain": [
              "array([5805.16731228])"
            ]
          },
          "metadata": {
            "tags": []
          },
          "execution_count": 120
        }
      ]
    },
    {
      "cell_type": "code",
      "metadata": {
        "id": "vxdYE46dvxVi"
      },
      "source": [],
      "execution_count": null,
      "outputs": []
    }
  ]
}